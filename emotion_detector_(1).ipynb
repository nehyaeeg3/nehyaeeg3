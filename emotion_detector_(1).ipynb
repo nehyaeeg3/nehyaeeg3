{
  "cells": [
    {
      "cell_type": "markdown",
      "metadata": {
        "id": "view-in-github",
        "colab_type": "text"
      },
      "source": [
        "<a href=\"https://colab.research.google.com/github/nehyaeeg3/nehyaeeg3/blob/main/emotion_detector_(1).ipynb\" target=\"_parent\"><img src=\"https://colab.research.google.com/assets/colab-badge.svg\" alt=\"Open In Colab\"/></a>"
      ]
    },
    {
      "cell_type": "code",
      "source": [
        "# from google.colab import drive\n",
        "# drive.mount('/content/drive')\n",
        "# !cp -r /content/drive/MyDrive/input /usr"
      ],
      "metadata": {
        "id": "u_rVcY3_RBek"
      },
      "execution_count": null,
      "outputs": []
    },
    {
      "cell_type": "code",
      "execution_count": null,
      "metadata": {
        "_cell_guid": "b1076dfc-b9ad-4769-8c92-a6c4dae69d19",
        "_uuid": "8f2839f25d086af736a60e9eeb907d3b93b6e0e5",
        "trusted": true,
        "id": "Q2iaiLr4BSUa"
      },
      "outputs": [],
      "source": [
        "import numpy as np # linear algebra\n",
        "import pandas as pd # data processing, CSV file I/O (e.g. pd.read_csv)\n",
        "import os\n",
        "#for dirname, _, filenames in os.walk('/kaggle/input'):\n",
        "    #for filename in filenames:\n",
        "        #print(os.path.join(dirname, filename))\n",
        "import matplotlib.pyplot as plt\n",
        "import seaborn as sns\n",
        "import tensorflow as tf\n",
        "import keras\n",
        "from keras.preprocessing import image\n",
        "from keras.models import Sequential\n",
        "from keras.layers import Conv2D, MaxPool2D, Flatten,Dense,Dropout,BatchNormalization\n",
        "from tensorflow.keras.preprocessing.image import ImageDataGenerator\n",
        "import cv2\n",
        "from tensorflow.keras.applications import VGG16, InceptionResNetV2\n",
        "from keras import regularizers\n",
        "from tensorflow.keras.optimizers import Adam,RMSprop,SGD,Adamax"
      ]
    },
    {
      "cell_type": "code",
      "source": [
        ""
      ],
      "metadata": {
        "id": "kA4X9ozyQ_x6"
      },
      "execution_count": null,
      "outputs": []
    },
    {
      "cell_type": "code",
      "source": [
        ""
      ],
      "metadata": {
        "id": "rR7P4p7bRAug"
      },
      "execution_count": null,
      "outputs": []
    },
    {
      "cell_type": "code",
      "execution_count": null,
      "metadata": {
        "trusted": true,
        "id": "lYNcon19BSUe"
      },
      "outputs": [],
      "source": [
        "train_dir = \"/usr/input/train\" #passing the path with training images\n",
        "test_dir = \"/usr/input/test\"   #passing the path with testing images"
      ]
    },
    {
      "cell_type": "code",
      "execution_count": null,
      "metadata": {
        "trusted": true,
        "id": "9Rb3kpqVBSUf"
      },
      "outputs": [],
      "source": [
        "img_size = 48 #original size of the image"
      ]
    },
    {
      "cell_type": "code",
      "execution_count": null,
      "metadata": {
        "trusted": true,
        "id": "uIvFcHwyBSUf"
      },
      "outputs": [],
      "source": [
        "\"\"\"\n",
        "Data Augmentation\n",
        "\n",
        "\"\"\"\n",
        "\n",
        "train_datagen = ImageDataGenerator(#rotation_range = 180,\n",
        "                                         width_shift_range = 0.1,\n",
        "                                         height_shift_range = 0.1,\n",
        "                                         horizontal_flip = True,\n",
        "                                         rescale = 1./255,\n",
        "                                         #zoom_range = 0.2,\n",
        "                                         validation_split = 0.2\n",
        "                                        )\n",
        "validation_datagen = ImageDataGenerator(rescale = 1./255,\n",
        "                                         validation_split = 0.2)"
      ]
    },
    {
      "cell_type": "code",
      "execution_count": null,
      "metadata": {
        "trusted": true,
        "colab": {
          "base_uri": "https://localhost:8080/",
          "height": 397
        },
        "id": "S8JiKPlIBSUg",
        "outputId": "28b50d6d-58f5-4f9f-dcb3-a762c3c0f94f"
      },
      "outputs": [
        {
          "output_type": "error",
          "ename": "FileNotFoundError",
          "evalue": "ignored",
          "traceback": [
            "\u001b[0;31m---------------------------------------------------------------------------\u001b[0m",
            "\u001b[0;31mFileNotFoundError\u001b[0m                         Traceback (most recent call last)",
            "\u001b[0;32m<ipython-input-6-723b24788632>\u001b[0m in \u001b[0;36m<module>\u001b[0;34m()\u001b[0m\n\u001b[1;32m      8\u001b[0m                                                     \u001b[0mcolor_mode\u001b[0m \u001b[0;34m=\u001b[0m \u001b[0;34m\"grayscale\"\u001b[0m\u001b[0;34m,\u001b[0m\u001b[0;34m\u001b[0m\u001b[0;34m\u001b[0m\u001b[0m\n\u001b[1;32m      9\u001b[0m                                                     \u001b[0mclass_mode\u001b[0m \u001b[0;34m=\u001b[0m \u001b[0;34m\"categorical\"\u001b[0m\u001b[0;34m,\u001b[0m\u001b[0;34m\u001b[0m\u001b[0;34m\u001b[0m\u001b[0m\n\u001b[0;32m---> 10\u001b[0;31m                                                     \u001b[0msubset\u001b[0m \u001b[0;34m=\u001b[0m \u001b[0;34m\"training\"\u001b[0m\u001b[0;34m\u001b[0m\u001b[0;34m\u001b[0m\u001b[0m\n\u001b[0m\u001b[1;32m     11\u001b[0m                                                    )\n\u001b[1;32m     12\u001b[0m validation_generator = validation_datagen.flow_from_directory( directory = test_dir,\n",
            "\u001b[0;32m/usr/local/lib/python3.7/dist-packages/keras/preprocessing/image.py\u001b[0m in \u001b[0;36mflow_from_directory\u001b[0;34m(self, directory, target_size, color_mode, classes, class_mode, batch_size, shuffle, seed, save_to_dir, save_prefix, save_format, follow_links, subset, interpolation)\u001b[0m\n\u001b[1;32m    990\u001b[0m         \u001b[0mfollow_links\u001b[0m\u001b[0;34m=\u001b[0m\u001b[0mfollow_links\u001b[0m\u001b[0;34m,\u001b[0m\u001b[0;34m\u001b[0m\u001b[0;34m\u001b[0m\u001b[0m\n\u001b[1;32m    991\u001b[0m         \u001b[0msubset\u001b[0m\u001b[0;34m=\u001b[0m\u001b[0msubset\u001b[0m\u001b[0;34m,\u001b[0m\u001b[0;34m\u001b[0m\u001b[0;34m\u001b[0m\u001b[0m\n\u001b[0;32m--> 992\u001b[0;31m         interpolation=interpolation)\n\u001b[0m\u001b[1;32m    993\u001b[0m \u001b[0;34m\u001b[0m\u001b[0m\n\u001b[1;32m    994\u001b[0m   def flow_from_dataframe(self,\n",
            "\u001b[0;32m/usr/local/lib/python3.7/dist-packages/keras/preprocessing/image.py\u001b[0m in \u001b[0;36m__init__\u001b[0;34m(self, directory, image_data_generator, target_size, color_mode, classes, class_mode, batch_size, shuffle, seed, data_format, save_to_dir, save_prefix, save_format, follow_links, subset, interpolation, dtype)\u001b[0m\n\u001b[1;32m    408\u001b[0m         \u001b[0msubset\u001b[0m\u001b[0;34m=\u001b[0m\u001b[0msubset\u001b[0m\u001b[0;34m,\u001b[0m\u001b[0;34m\u001b[0m\u001b[0;34m\u001b[0m\u001b[0m\n\u001b[1;32m    409\u001b[0m         \u001b[0minterpolation\u001b[0m\u001b[0;34m=\u001b[0m\u001b[0minterpolation\u001b[0m\u001b[0;34m,\u001b[0m\u001b[0;34m\u001b[0m\u001b[0;34m\u001b[0m\u001b[0m\n\u001b[0;32m--> 410\u001b[0;31m         **kwargs)\n\u001b[0m\u001b[1;32m    411\u001b[0m \u001b[0;34m\u001b[0m\u001b[0m\n\u001b[1;32m    412\u001b[0m \u001b[0;34m\u001b[0m\u001b[0m\n",
            "\u001b[0;32m/usr/local/lib/python3.7/dist-packages/keras_preprocessing/image/directory_iterator.py\u001b[0m in \u001b[0;36m__init__\u001b[0;34m(self, directory, image_data_generator, target_size, color_mode, classes, class_mode, batch_size, shuffle, seed, data_format, save_to_dir, save_prefix, save_format, follow_links, subset, interpolation, dtype)\u001b[0m\n\u001b[1;32m    113\u001b[0m         \u001b[0;32mif\u001b[0m \u001b[0;32mnot\u001b[0m \u001b[0mclasses\u001b[0m\u001b[0;34m:\u001b[0m\u001b[0;34m\u001b[0m\u001b[0;34m\u001b[0m\u001b[0m\n\u001b[1;32m    114\u001b[0m             \u001b[0mclasses\u001b[0m \u001b[0;34m=\u001b[0m \u001b[0;34m[\u001b[0m\u001b[0;34m]\u001b[0m\u001b[0;34m\u001b[0m\u001b[0;34m\u001b[0m\u001b[0m\n\u001b[0;32m--> 115\u001b[0;31m             \u001b[0;32mfor\u001b[0m \u001b[0msubdir\u001b[0m \u001b[0;32min\u001b[0m \u001b[0msorted\u001b[0m\u001b[0;34m(\u001b[0m\u001b[0mos\u001b[0m\u001b[0;34m.\u001b[0m\u001b[0mlistdir\u001b[0m\u001b[0;34m(\u001b[0m\u001b[0mdirectory\u001b[0m\u001b[0;34m)\u001b[0m\u001b[0;34m)\u001b[0m\u001b[0;34m:\u001b[0m\u001b[0;34m\u001b[0m\u001b[0;34m\u001b[0m\u001b[0m\n\u001b[0m\u001b[1;32m    116\u001b[0m                 \u001b[0;32mif\u001b[0m \u001b[0mos\u001b[0m\u001b[0;34m.\u001b[0m\u001b[0mpath\u001b[0m\u001b[0;34m.\u001b[0m\u001b[0misdir\u001b[0m\u001b[0;34m(\u001b[0m\u001b[0mos\u001b[0m\u001b[0;34m.\u001b[0m\u001b[0mpath\u001b[0m\u001b[0;34m.\u001b[0m\u001b[0mjoin\u001b[0m\u001b[0;34m(\u001b[0m\u001b[0mdirectory\u001b[0m\u001b[0;34m,\u001b[0m \u001b[0msubdir\u001b[0m\u001b[0;34m)\u001b[0m\u001b[0;34m)\u001b[0m\u001b[0;34m:\u001b[0m\u001b[0;34m\u001b[0m\u001b[0;34m\u001b[0m\u001b[0m\n\u001b[1;32m    117\u001b[0m                     \u001b[0mclasses\u001b[0m\u001b[0;34m.\u001b[0m\u001b[0mappend\u001b[0m\u001b[0;34m(\u001b[0m\u001b[0msubdir\u001b[0m\u001b[0;34m)\u001b[0m\u001b[0;34m\u001b[0m\u001b[0;34m\u001b[0m\u001b[0m\n",
            "\u001b[0;31mFileNotFoundError\u001b[0m: [Errno 2] No such file or directory: '/usr/input/train'"
          ]
        }
      ],
      "source": [
        "\"\"\"\n",
        "Applying data augmentation \n",
        "\"\"\"\n",
        "train_generator = train_datagen.flow_from_directory(directory = train_dir,\n",
        "                                                    target_size = (img_size,img_size),\n",
        "                                                    batch_size = 64,\n",
        "                                                    color_mode = \"grayscale\",\n",
        "                                                    class_mode = \"categorical\",\n",
        "                                                    subset = \"training\"\n",
        "                                                   )\n",
        "validation_generator = validation_datagen.flow_from_directory( directory = test_dir,\n",
        "                                                              target_size = (img_size,img_size),\n",
        "                                                              batch_size = 64,\n",
        "                                                              color_mode = \"grayscale\",\n",
        "                                                              class_mode = \"categorical\",\n",
        "                                                              subset = \"validation\"\n",
        "                                                             )"
      ]
    },
    {
      "cell_type": "code",
      "execution_count": null,
      "metadata": {
        "trusted": true,
        "id": "J-c7K6u9BSUh",
        "colab": {
          "base_uri": "https://localhost:8080/"
        },
        "outputId": "6a479fcd-f15f-41ae-be94-e0b76df3f692"
      },
      "outputs": [
        {
          "output_type": "stream",
          "name": "stderr",
          "text": [
            "/usr/local/lib/python3.7/dist-packages/keras/optimizer_v2/adam.py:105: UserWarning: The `lr` argument is deprecated, use `learning_rate` instead.\n",
            "  super(Adam, self).__init__(name, **kwargs)\n"
          ]
        }
      ],
      "source": [
        "model= tf.keras.models.Sequential()\n",
        "model.add(Conv2D(32, kernel_size=(3, 3), padding='same', activation='relu', input_shape=(48, 48,1)))\n",
        "model.add(Conv2D(64,(3,3), padding='same', activation='relu' ))\n",
        "model.add(BatchNormalization())\n",
        "model.add(MaxPool2D(pool_size=(2, 2)))\n",
        "model.add(Dropout(0.25))\n",
        "\n",
        "model.add(Conv2D(128,(5,5), padding='same', activation='relu'))\n",
        "model.add(BatchNormalization())\n",
        "model.add(MaxPool2D(pool_size=(2, 2)))\n",
        "model.add(Dropout(0.25))\n",
        "    \n",
        "model.add(Conv2D(512,(3,3), padding='same', activation='relu', kernel_regularizer=regularizers.l2(0.01)))\n",
        "model.add(BatchNormalization())\n",
        "model.add(MaxPool2D(pool_size=(2, 2)))\n",
        "model.add(Dropout(0.25))\n",
        "\n",
        "model.add(Conv2D(512,(3,3), padding='same', activation='relu', kernel_regularizer=regularizers.l2(0.01)))\n",
        "model.add(BatchNormalization())\n",
        "model.add(MaxPool2D(pool_size=(2, 2)))\n",
        "model.add(Dropout(0.25))\n",
        "\n",
        "model.add(Flatten()) \n",
        "model.add(Dense(256,activation = 'relu'))\n",
        "model.add(BatchNormalization())\n",
        "model.add(Dropout(0.25))\n",
        "    \n",
        "model.add(Dense(512,activation = 'relu'))\n",
        "model.add(BatchNormalization())\n",
        "model.add(Dropout(0.25))\n",
        "\n",
        "model.add(Dense(7, activation='softmax'))\n",
        "\n",
        "model.compile(\n",
        "    optimizer = Adam(lr=0.0001), \n",
        "    loss='categorical_crossentropy', \n",
        "    metrics=['accuracy']\n",
        "  )"
      ]
    },
    {
      "cell_type": "code",
      "execution_count": null,
      "metadata": {
        "trusted": true,
        "id": "e-6FPdFSBSUi"
      },
      "outputs": [],
      "source": [
        "epochs = 60\n",
        "batch_size = 64"
      ]
    },
    {
      "cell_type": "code",
      "execution_count": null,
      "metadata": {
        "trusted": true,
        "id": "Wjhsi1NfBSUi",
        "colab": {
          "base_uri": "https://localhost:8080/"
        },
        "outputId": "3d2c7516-9a1c-4ac2-f0e2-50b634ac2734"
      },
      "outputs": [
        {
          "output_type": "stream",
          "name": "stdout",
          "text": [
            "Model: \"sequential_1\"\n",
            "_________________________________________________________________\n",
            " Layer (type)                Output Shape              Param #   \n",
            "=================================================================\n",
            " conv2d_5 (Conv2D)           (None, 48, 48, 32)        320       \n",
            "                                                                 \n",
            " conv2d_6 (Conv2D)           (None, 48, 48, 64)        18496     \n",
            "                                                                 \n",
            " batch_normalization_6 (Batc  (None, 48, 48, 64)       256       \n",
            " hNormalization)                                                 \n",
            "                                                                 \n",
            " max_pooling2d_4 (MaxPooling  (None, 24, 24, 64)       0         \n",
            " 2D)                                                             \n",
            "                                                                 \n",
            " dropout_6 (Dropout)         (None, 24, 24, 64)        0         \n",
            "                                                                 \n",
            " conv2d_7 (Conv2D)           (None, 24, 24, 128)       204928    \n",
            "                                                                 \n",
            " batch_normalization_7 (Batc  (None, 24, 24, 128)      512       \n",
            " hNormalization)                                                 \n",
            "                                                                 \n",
            " max_pooling2d_5 (MaxPooling  (None, 12, 12, 128)      0         \n",
            " 2D)                                                             \n",
            "                                                                 \n",
            " dropout_7 (Dropout)         (None, 12, 12, 128)       0         \n",
            "                                                                 \n",
            " conv2d_8 (Conv2D)           (None, 12, 12, 512)       590336    \n",
            "                                                                 \n",
            " batch_normalization_8 (Batc  (None, 12, 12, 512)      2048      \n",
            " hNormalization)                                                 \n",
            "                                                                 \n",
            " max_pooling2d_6 (MaxPooling  (None, 6, 6, 512)        0         \n",
            " 2D)                                                             \n",
            "                                                                 \n",
            " dropout_8 (Dropout)         (None, 6, 6, 512)         0         \n",
            "                                                                 \n",
            " conv2d_9 (Conv2D)           (None, 6, 6, 512)         2359808   \n",
            "                                                                 \n",
            " batch_normalization_9 (Batc  (None, 6, 6, 512)        2048      \n",
            " hNormalization)                                                 \n",
            "                                                                 \n",
            " max_pooling2d_7 (MaxPooling  (None, 3, 3, 512)        0         \n",
            " 2D)                                                             \n",
            "                                                                 \n",
            " dropout_9 (Dropout)         (None, 3, 3, 512)         0         \n",
            "                                                                 \n",
            " flatten_1 (Flatten)         (None, 4608)              0         \n",
            "                                                                 \n",
            " dense_3 (Dense)             (None, 256)               1179904   \n",
            "                                                                 \n",
            " batch_normalization_10 (Bat  (None, 256)              1024      \n",
            " chNormalization)                                                \n",
            "                                                                 \n",
            " dropout_10 (Dropout)        (None, 256)               0         \n",
            "                                                                 \n",
            " dense_4 (Dense)             (None, 512)               131584    \n",
            "                                                                 \n",
            " batch_normalization_11 (Bat  (None, 512)              2048      \n",
            " chNormalization)                                                \n",
            "                                                                 \n",
            " dropout_11 (Dropout)        (None, 512)               0         \n",
            "                                                                 \n",
            " dense_5 (Dense)             (None, 7)                 3591      \n",
            "                                                                 \n",
            "=================================================================\n",
            "Total params: 4,496,903\n",
            "Trainable params: 4,492,935\n",
            "Non-trainable params: 3,968\n",
            "_________________________________________________________________\n"
          ]
        }
      ],
      "source": [
        "model.summary()"
      ]
    },
    {
      "cell_type": "code",
      "execution_count": null,
      "metadata": {
        "trusted": true,
        "id": "AyWU-GMtBSUj",
        "colab": {
          "base_uri": "https://localhost:8080/"
        },
        "outputId": "bf2fa41e-f7d9-4946-cd75-e19b17cbaa44"
      },
      "outputs": [
        {
          "output_type": "stream",
          "name": "stdout",
          "text": [
            "Epoch 1/60\n",
            "359/359 [==============================] - 33s 86ms/step - loss: 9.2763 - accuracy: 0.1948 - val_loss: 9.2613 - val_accuracy: 0.1718\n",
            "Epoch 2/60\n",
            "359/359 [==============================] - 29s 82ms/step - loss: 8.2371 - accuracy: 0.2299 - val_loss: 7.5235 - val_accuracy: 0.2912\n",
            "Epoch 3/60\n",
            "359/359 [==============================] - 30s 82ms/step - loss: 7.2364 - accuracy: 0.2595 - val_loss: 6.4848 - val_accuracy: 0.3443\n",
            "Epoch 4/60\n",
            "359/359 [==============================] - 29s 82ms/step - loss: 6.2651 - accuracy: 0.2884 - val_loss: 5.8073 - val_accuracy: 0.3219\n",
            "Epoch 5/60\n",
            "359/359 [==============================] - 30s 82ms/step - loss: 5.3871 - accuracy: 0.3235 - val_loss: 4.8157 - val_accuracy: 0.3925\n",
            "Epoch 6/60\n",
            "359/359 [==============================] - 29s 82ms/step - loss: 4.6571 - accuracy: 0.3533 - val_loss: 4.3691 - val_accuracy: 0.3771\n",
            "Epoch 7/60\n",
            "359/359 [==============================] - 29s 81ms/step - loss: 4.0342 - accuracy: 0.3797 - val_loss: 3.8546 - val_accuracy: 0.3673\n",
            "Epoch 8/60\n",
            "359/359 [==============================] - 29s 82ms/step - loss: 3.5364 - accuracy: 0.4014 - val_loss: 3.3387 - val_accuracy: 0.4365\n",
            "Epoch 9/60\n",
            "359/359 [==============================] - 29s 82ms/step - loss: 3.1251 - accuracy: 0.4202 - val_loss: 2.8444 - val_accuracy: 0.4672\n",
            "Epoch 10/60\n",
            "359/359 [==============================] - 29s 81ms/step - loss: 2.8090 - accuracy: 0.4383 - val_loss: 2.5808 - val_accuracy: 0.4951\n",
            "Epoch 11/60\n",
            "359/359 [==============================] - 29s 81ms/step - loss: 2.5429 - accuracy: 0.4554 - val_loss: 2.2330 - val_accuracy: 0.5370\n",
            "Epoch 12/60\n",
            "359/359 [==============================] - 29s 82ms/step - loss: 2.3419 - accuracy: 0.4701 - val_loss: 2.1939 - val_accuracy: 0.5168\n",
            "Epoch 13/60\n",
            "359/359 [==============================] - 29s 81ms/step - loss: 2.1573 - accuracy: 0.4913 - val_loss: 2.0705 - val_accuracy: 0.5363\n",
            "Epoch 14/60\n",
            "359/359 [==============================] - 29s 81ms/step - loss: 2.0273 - accuracy: 0.4985 - val_loss: 1.8541 - val_accuracy: 0.5454\n",
            "Epoch 15/60\n",
            "359/359 [==============================] - 29s 81ms/step - loss: 1.9173 - accuracy: 0.5104 - val_loss: 1.7842 - val_accuracy: 0.5482\n",
            "Epoch 16/60\n",
            "359/359 [==============================] - 29s 81ms/step - loss: 1.8295 - accuracy: 0.5235 - val_loss: 1.7255 - val_accuracy: 0.5615\n",
            "Epoch 17/60\n",
            "359/359 [==============================] - 29s 81ms/step - loss: 1.7542 - accuracy: 0.5325 - val_loss: 1.6788 - val_accuracy: 0.5789\n",
            "Epoch 18/60\n",
            "359/359 [==============================] - 29s 81ms/step - loss: 1.6884 - accuracy: 0.5466 - val_loss: 1.5727 - val_accuracy: 0.6041\n",
            "Epoch 19/60\n",
            "359/359 [==============================] - 31s 86ms/step - loss: 1.6373 - accuracy: 0.5531 - val_loss: 1.5909 - val_accuracy: 0.5740\n",
            "Epoch 20/60\n",
            "359/359 [==============================] - 31s 85ms/step - loss: 1.6045 - accuracy: 0.5581 - val_loss: 1.5524 - val_accuracy: 0.5936\n",
            "Epoch 21/60\n",
            "359/359 [==============================] - 29s 81ms/step - loss: 1.5666 - accuracy: 0.5666 - val_loss: 1.5231 - val_accuracy: 0.5943\n",
            "Epoch 22/60\n",
            "359/359 [==============================] - 29s 81ms/step - loss: 1.5507 - accuracy: 0.5714 - val_loss: 1.5082 - val_accuracy: 0.5803\n",
            "Epoch 23/60\n",
            "359/359 [==============================] - 29s 81ms/step - loss: 1.5270 - accuracy: 0.5737 - val_loss: 1.4450 - val_accuracy: 0.6166\n",
            "Epoch 24/60\n",
            "359/359 [==============================] - 29s 80ms/step - loss: 1.4983 - accuracy: 0.5826 - val_loss: 1.4747 - val_accuracy: 0.5978\n",
            "Epoch 25/60\n",
            "359/359 [==============================] - 29s 81ms/step - loss: 1.4750 - accuracy: 0.5861 - val_loss: 1.4756 - val_accuracy: 0.5992\n",
            "Epoch 26/60\n",
            "359/359 [==============================] - 29s 81ms/step - loss: 1.4663 - accuracy: 0.5870 - val_loss: 1.4367 - val_accuracy: 0.5978\n",
            "Epoch 27/60\n",
            "359/359 [==============================] - 29s 81ms/step - loss: 1.4487 - accuracy: 0.5947 - val_loss: 1.4866 - val_accuracy: 0.5943\n",
            "Epoch 28/60\n",
            "359/359 [==============================] - 29s 81ms/step - loss: 1.4402 - accuracy: 0.5974 - val_loss: 1.4405 - val_accuracy: 0.6082\n",
            "Epoch 29/60\n",
            "359/359 [==============================] - 29s 81ms/step - loss: 1.4330 - accuracy: 0.6016 - val_loss: 1.4004 - val_accuracy: 0.6152\n",
            "Epoch 30/60\n",
            "359/359 [==============================] - 29s 81ms/step - loss: 1.4260 - accuracy: 0.6022 - val_loss: 1.4297 - val_accuracy: 0.6124\n",
            "Epoch 31/60\n",
            "359/359 [==============================] - 29s 81ms/step - loss: 1.4165 - accuracy: 0.6110 - val_loss: 1.3959 - val_accuracy: 0.6180\n",
            "Epoch 32/60\n",
            "359/359 [==============================] - 29s 80ms/step - loss: 1.4099 - accuracy: 0.6117 - val_loss: 1.3925 - val_accuracy: 0.6215\n",
            "Epoch 33/60\n",
            "359/359 [==============================] - 29s 80ms/step - loss: 1.3998 - accuracy: 0.6158 - val_loss: 1.4078 - val_accuracy: 0.6187\n",
            "Epoch 34/60\n",
            "359/359 [==============================] - 29s 80ms/step - loss: 1.3881 - accuracy: 0.6216 - val_loss: 1.4533 - val_accuracy: 0.6075\n",
            "Epoch 35/60\n",
            "359/359 [==============================] - 29s 81ms/step - loss: 1.3982 - accuracy: 0.6185 - val_loss: 1.4070 - val_accuracy: 0.6299\n",
            "Epoch 36/60\n",
            "359/359 [==============================] - 29s 81ms/step - loss: 1.3852 - accuracy: 0.6225 - val_loss: 1.4267 - val_accuracy: 0.6194\n",
            "Epoch 37/60\n",
            "359/359 [==============================] - 29s 80ms/step - loss: 1.3795 - accuracy: 0.6285 - val_loss: 1.4313 - val_accuracy: 0.6222\n",
            "Epoch 38/60\n",
            "359/359 [==============================] - 29s 80ms/step - loss: 1.3754 - accuracy: 0.6307 - val_loss: 1.4118 - val_accuracy: 0.6215\n",
            "Epoch 39/60\n",
            "359/359 [==============================] - 29s 80ms/step - loss: 1.3742 - accuracy: 0.6283 - val_loss: 1.4142 - val_accuracy: 0.6187\n",
            "Epoch 40/60\n",
            "359/359 [==============================] - 29s 81ms/step - loss: 1.3733 - accuracy: 0.6321 - val_loss: 1.4144 - val_accuracy: 0.6313\n",
            "Epoch 41/60\n",
            "359/359 [==============================] - 29s 81ms/step - loss: 1.3661 - accuracy: 0.6330 - val_loss: 1.3739 - val_accuracy: 0.6446\n",
            "Epoch 42/60\n",
            "359/359 [==============================] - 29s 81ms/step - loss: 1.3675 - accuracy: 0.6345 - val_loss: 1.4165 - val_accuracy: 0.6313\n",
            "Epoch 43/60\n",
            "359/359 [==============================] - 29s 80ms/step - loss: 1.3508 - accuracy: 0.6419 - val_loss: 1.3826 - val_accuracy: 0.6432\n",
            "Epoch 44/60\n",
            "359/359 [==============================] - 29s 81ms/step - loss: 1.3493 - accuracy: 0.6428 - val_loss: 1.3939 - val_accuracy: 0.6390\n",
            "Epoch 45/60\n",
            "359/359 [==============================] - 29s 80ms/step - loss: 1.3444 - accuracy: 0.6473 - val_loss: 1.4542 - val_accuracy: 0.6306\n",
            "Epoch 46/60\n",
            "359/359 [==============================] - 29s 80ms/step - loss: 1.3467 - accuracy: 0.6438 - val_loss: 1.4115 - val_accuracy: 0.6376\n",
            "Epoch 47/60\n",
            "359/359 [==============================] - 29s 80ms/step - loss: 1.3424 - accuracy: 0.6505 - val_loss: 1.4462 - val_accuracy: 0.6292\n",
            "Epoch 48/60\n",
            "359/359 [==============================] - 29s 80ms/step - loss: 1.3472 - accuracy: 0.6489 - val_loss: 1.4338 - val_accuracy: 0.6397\n",
            "Epoch 49/60\n",
            "359/359 [==============================] - 29s 81ms/step - loss: 1.3487 - accuracy: 0.6518 - val_loss: 1.4605 - val_accuracy: 0.6313\n",
            "Epoch 50/60\n",
            "359/359 [==============================] - 29s 80ms/step - loss: 1.3425 - accuracy: 0.6478 - val_loss: 1.3634 - val_accuracy: 0.6634\n",
            "Epoch 51/60\n",
            "359/359 [==============================] - 29s 80ms/step - loss: 1.3329 - accuracy: 0.6530 - val_loss: 1.3996 - val_accuracy: 0.6383\n",
            "Epoch 52/60\n",
            "359/359 [==============================] - 29s 80ms/step - loss: 1.3389 - accuracy: 0.6527 - val_loss: 1.3954 - val_accuracy: 0.6529\n",
            "Epoch 53/60\n",
            "359/359 [==============================] - 29s 81ms/step - loss: 1.3332 - accuracy: 0.6566 - val_loss: 1.4093 - val_accuracy: 0.6459\n",
            "Epoch 54/60\n",
            "359/359 [==============================] - 29s 82ms/step - loss: 1.3237 - accuracy: 0.6581 - val_loss: 1.4136 - val_accuracy: 0.6418\n",
            "Epoch 55/60\n",
            "359/359 [==============================] - 29s 81ms/step - loss: 1.3250 - accuracy: 0.6609 - val_loss: 1.3964 - val_accuracy: 0.6515\n",
            "Epoch 56/60\n",
            "359/359 [==============================] - 29s 81ms/step - loss: 1.3298 - accuracy: 0.6621 - val_loss: 1.4041 - val_accuracy: 0.6418\n",
            "Epoch 57/60\n",
            "359/359 [==============================] - 30s 83ms/step - loss: 1.3207 - accuracy: 0.6650 - val_loss: 1.3936 - val_accuracy: 0.6536\n",
            "Epoch 58/60\n",
            "359/359 [==============================] - 29s 82ms/step - loss: 1.3171 - accuracy: 0.6632 - val_loss: 1.4460 - val_accuracy: 0.6257\n",
            "Epoch 59/60\n",
            "359/359 [==============================] - 29s 81ms/step - loss: 1.3166 - accuracy: 0.6675 - val_loss: 1.4859 - val_accuracy: 0.6320\n",
            "Epoch 60/60\n",
            "359/359 [==============================] - 29s 82ms/step - loss: 1.3154 - accuracy: 0.6681 - val_loss: 1.4446 - val_accuracy: 0.6480\n"
          ]
        }
      ],
      "source": [
        "history = model.fit(x = train_generator,epochs = epochs,validation_data = validation_generator)"
      ]
    },
    {
      "cell_type": "code",
      "execution_count": null,
      "metadata": {
        "trusted": true,
        "id": "ggoIMglRBSUk",
        "colab": {
          "base_uri": "https://localhost:8080/",
          "height": 295
        },
        "outputId": "299459a3-194d-45b3-f7ff-d05c02c3e383"
      },
      "outputs": [
        {
          "output_type": "display_data",
          "data": {
            "text/plain": [
              "<Figure size 864x288 with 2 Axes>"
            ],
            "image/png": "[encoded data removed]"
          },
          "metadata": {
            "needs_background": "light"
          }
        }
      ],
      "source": [
        "fig , ax = plt.subplots(1,2)\n",
        "train_acc = history.history['accuracy']\n",
        "train_loss = history.history['loss']\n",
        "fig.set_size_inches(12,4)\n",
        "\n",
        "ax[0].plot(history.history['accuracy'])\n",
        "ax[0].plot(history.history['val_accuracy'])\n",
        "ax[0].set_title('Training Accuracy vs Validation Accuracy')\n",
        "ax[0].set_ylabel('Accuracy')\n",
        "ax[0].set_xlabel('Epoch')\n",
        "ax[0].legend(['Train', 'Validation'], loc='upper left')\n",
        "\n",
        "ax[1].plot(history.history['loss'])\n",
        "ax[1].plot(history.history['val_loss'])\n",
        "ax[1].set_title('Training Loss vs Validation Loss')\n",
        "ax[1].set_ylabel('Loss')\n",
        "ax[1].set_xlabel('Epoch')\n",
        "ax[1].legend(['Train', 'Validation'], loc='upper left')\n",
        "\n",
        "plt.show()"
      ]
    },
    {
      "cell_type": "code",
      "execution_count": null,
      "metadata": {
        "trusted": true,
        "id": "aDWMjoDaBSUk"
      },
      "outputs": [],
      "source": [
        "model.save('model_optimal.h5')"
      ]
    },
    {
      "cell_type": "code",
      "execution_count": null,
      "metadata": {
        "trusted": true,
        "id": "gQMI-n1uBSUl",
        "colab": {
          "base_uri": "https://localhost:8080/",
          "height": 284
        },
        "outputId": "d7f8df96-130c-42b9-dcce-1216720f62d4"
      },
      "outputs": [
        {
          "output_type": "stream",
          "name": "stdout",
          "text": [
            "(48, 48)\n"
          ]
        },
        {
          "output_type": "display_data",
          "data": {
            "text/plain": [
              "<Figure size 432x288 with 1 Axes>"
            ],
            "image/png": "[encoded data removed]"
          },
          "metadata": {
            "needs_background": "light"
          }
        }
      ],
      "source": [
        "img = image.load_img(\"/usr/input/test/fearful/im103.png\",target_size = (48,48),color_mode = \"grayscale\")\n",
        "img = np.array(img)\n",
        "plt.imshow(img)\n",
        "print(img.shape) #prints (48,48) that is the shape of our image"
      ]
    },
    {
      "cell_type": "code",
      "execution_count": null,
      "metadata": {
        "trusted": true,
        "id": "u1aOtq4OBSUl"
      },
      "outputs": [],
      "source": [
        "label_dict = {0:'Angry',1:'Disgust',2:'Fear',3:'Happy',4:'Neutral',5:'Sad',6:'Surprise'}"
      ]
    },
    {
      "cell_type": "code",
      "execution_count": null,
      "metadata": {
        "trusted": true,
        "id": "_15jD80vBSUl",
        "colab": {
          "base_uri": "https://localhost:8080/"
        },
        "outputId": "c95d632a-de10-4b4c-edff-0ec6053001b8"
      },
      "outputs": [
        {
          "output_type": "stream",
          "name": "stdout",
          "text": [
            "[0.0, 0.0, 1.0, 0.0, 0.0, 0.0, 0.0]\n"
          ]
        }
      ],
      "source": [
        "img = np.expand_dims(img,axis = 0) #makes image shape (1,48,48)\n",
        "img = img.reshape(1,48,48,1)\n",
        "result = model.predict(img)\n",
        "\n",
        "result = list(result[0])\n",
        "print(result)"
      ]
    },
    {
      "cell_type": "code",
      "execution_count": null,
      "metadata": {
        "trusted": true,
        "id": "Z0bfEgcZBSUl",
        "colab": {
          "base_uri": "https://localhost:8080/"
        },
        "outputId": "632d5d06-4559-47b8-f523-871fd6c1081f"
      },
      "outputs": [
        {
          "output_type": "stream",
          "name": "stdout",
          "text": [
            "Fear\n"
          ]
        }
      ],
      "source": [
        "img_index = result.index(max(result))\n",
        "print(label_dict[img_index])\n",
        "plt.show()"
      ]
    },
    {
      "cell_type": "code",
      "execution_count": null,
      "metadata": {
        "trusted": true,
        "id": "gw9-sHQPBSUm",
        "colab": {
          "base_uri": "https://localhost:8080/"
        },
        "outputId": "d1a183f5-e3f5-4853-cc8a-5082f40935df"
      },
      "outputs": [
        {
          "output_type": "stream",
          "name": "stdout",
          "text": [
            "359/359 [==============================] - 26s 71ms/step - loss: 1.1958 - accuracy: 0.7127\n",
            "23/23 [==============================] - 1s 35ms/step - loss: 1.4446 - accuracy: 0.6480\n",
            "final train accuracy = 71.27 , validation accuracy = 64.80\n"
          ]
        }
      ],
      "source": [
        "train_loss, train_acc = model.evaluate(train_generator)\n",
        "test_loss, test_acc   = model.evaluate(validation_generator)\n",
        "print(\"final train accuracy = {:.2f} , validation accuracy = {:.2f}\".format(train_acc*100, test_acc*100))"
      ]
    },
    {
      "cell_type": "code",
      "execution_count": null,
      "metadata": {
        "trusted": true,
        "id": "M0sOAB8hBSUm"
      },
      "outputs": [],
      "source": [
        "model.save_weights('model_weights.h5')"
      ]
    },
    {
      "cell_type": "code",
      "execution_count": null,
      "metadata": {
        "trusted": true,
        "id": "JPH0dM2gBSUm"
      },
      "outputs": [],
      "source": [
        ""
      ]
    }
  ],
  "metadata": {
    "kernelspec": {
      "display_name": "Python 3",
      "language": "python",
      "name": "python3"
    },
    "language_info": {
      "codemirror_mode": {
        "name": "ipython",
        "version": 3
      },
      "file_extension": ".py",
      "mimetype": "text/x-python",
      "name": "python",
      "nbconvert_exporter": "python",
      "pygments_lexer": "ipython3",
      "version": "3.9.7"
    },
    "colab": {
      "name": "emotion-detector (1).ipynb",
      "provenance": [],
      "collapsed_sections": [],
      "include_colab_link": true
    },
    "accelerator": "GPU"
  },
  "nbformat": 4,
  "nbformat_minor": 0
}